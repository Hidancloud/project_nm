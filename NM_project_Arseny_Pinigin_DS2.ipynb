{
  "nbformat": 4,
  "nbformat_minor": 0,
  "metadata": {
    "colab": {
      "name": "NM project Arseny Pinigin DS-2.ipynb",
      "provenance": [],
      "collapsed_sections": [],
      "machine_shape": "hm"
    },
    "kernelspec": {
      "name": "python3",
      "display_name": "Python 3"
    }
  },
  "cells": [
    {
      "cell_type": "markdown",
      "metadata": {
        "id": "BKk1BzU7UjOc",
        "colab_type": "text"
      },
      "source": [
        "**Imports**"
      ]
    },
    {
      "cell_type": "code",
      "metadata": {
        "id": "Nm0PWnr_2YbW",
        "colab_type": "code",
        "colab": {}
      },
      "source": [
        "import time\n",
        "import numpy as np\n",
        "import matplotlib.pyplot as plt\n",
        "from scipy.sparse import csr_matrix, lil_matrix, identity\n",
        "%matplotlib inline"
      ],
      "execution_count": 0,
      "outputs": []
    },
    {
      "cell_type": "markdown",
      "metadata": {
        "id": "eDd2YQFd2jRs",
        "colab_type": "text"
      },
      "source": [
        "**Checks for (x, y) are inside house OR are not inside the region of interest:**"
      ]
    },
    {
      "cell_type": "code",
      "metadata": {
        "id": "XJksAs-CCf0E",
        "colab_type": "code",
        "colab": {}
      },
      "source": [
        "boxes = [(69, 111), (69, 264),\n",
        "           (138, 12), (138, 165),\n",
        "           (192, 111), (192, 264),\n",
        "           (261, 12), (261, 165)]\n",
        "\n",
        "A_houses = [(138, 51), (138, 204),\n",
        "              (261, 51), (261, 204)]\n",
        "\n",
        "B_houses = [(69, 12), (69, 165),\n",
        "              (192, 12), (192, 165)]\n",
        "\n",
        "\n",
        "def A_corner_house(posx, posy, x, y):\n",
        "  posx_ = posx - 12\n",
        "  posy_ = posy + 60\n",
        "  return ((posx < x) and (x < posx + 18) and (posy < y) and (y < posy + 78)) or \\\n",
        "   ((posx_ < x) and (x < posx_ + 13) and (posy_ < y) and (y < posy_ + 18))\n",
        "\n",
        "\n",
        "def B_corner_house(posx,posy,x,y):\n",
        "  posx_ = posx + 12\n",
        "  return ((posx < x) and (x < posx + 18) and (posy < y) and (y < posy + 78)) or \\\n",
        "   ((posx_ < x) and (x < posx_ + 12) and (posy < y) and (y < posy + 18))\n",
        "\n",
        "\n",
        "def is_in_square(posx, posy, x, y):\n",
        "  return (posx < x) and (x < posx + 18) and (posy < y) and (y < posy+18)\n",
        "\n",
        "\n",
        "def is_in_house(x, y):\n",
        "  for box in boxes:\n",
        "    if is_in_square(box[0], box[1], x, y):\n",
        "      return True\n",
        "  for house in A_houses:\n",
        "    if A_corner_house(house[0], house[1], x, y):\n",
        "      return True\n",
        "  for house in B_houses:\n",
        "    if B_corner_house(house[0], house[1], x, y):\n",
        "      return True\n",
        "  return False\n",
        "\n",
        "\n",
        "def bounds_check(x, y):\n",
        "  return x >= 300 or y >= 300 or y < 0 or x < 0"
      ],
      "execution_count": 0,
      "outputs": []
    },
    {
      "cell_type": "markdown",
      "metadata": {
        "id": "H6E9fEGC4DB6",
        "colab_type": "text"
      },
      "source": [
        "**It is assumed that we have one descrete emission from x=0 line to x=300 direction, without continious source** "
      ]
    },
    {
      "cell_type": "markdown",
      "metadata": {
        "id": "5sINe_qy8893",
        "colab_type": "text"
      },
      "source": [
        "**Initialization** with parameters  from the task: grid is 300x300, tau < 1/(2size*size), k = 1/2, lambda1 =1, lambda2 = 0, number of steps = 400 000 (the more the better) "
      ]
    },
    {
      "cell_type": "code",
      "metadata": {
        "id": "CSt088wV2RsQ",
        "colab_type": "code",
        "outputId": "8df8db4c-5097-40e0-c232-c435d571849d",
        "colab": {
          "base_uri": "https://localhost:8080/",
          "height": 84
        }
      },
      "source": [
        "size = 300\n",
        "h = 1/size\n",
        "k = 0.5\n",
        "tau = 1/(4*k*size*size)\n",
        "lambda_1 = 1\n",
        "steps = 400_000\n",
        "print(\"input n for epsilon in form of 1e-n (example: for 6 we get 1e-6):\\n\")\n",
        "epsilon = 10**(-float(input(\"\\n\")))\n",
        "dx = [1, -1, 0, 0]\n",
        "dy = [0, 0, 1, -1]\n",
        "sq_size = size**2\n",
        "  \n",
        "b = np.zeros(sq_size) \n",
        "x_v = np.zeros((sq_size, 1))\n",
        "\n",
        "for i in range(size):\n",
        "  x_v[i:size, 0] = 1\n",
        "A = lil_matrix((sq_size, sq_size))\n",
        "\n",
        "u0 = 1-4*(tau*k)/(h**2)\n",
        "krest = [tau*(k/(h**2)-lambda_1/(2*h)), tau*(k/(h**2)+lambda_1/(2*h)), tau*k/(h**2), tau*k/(h**2)]"
      ],
      "execution_count": 28,
      "outputs": [
        {
          "output_type": "stream",
          "text": [
            "input n for epsilon in form of 1e-n (example: for 6 we get 1e-6):\n",
            "\n",
            "\n",
            "6\n"
          ],
          "name": "stdout"
        }
      ]
    },
    {
      "cell_type": "markdown",
      "metadata": {
        "id": "Z-i3YEXb9D5v",
        "colab_type": "text"
      },
      "source": [
        "**Calculate matrix A with respect to steam diffusion and buildings**"
      ]
    },
    {
      "cell_type": "code",
      "metadata": {
        "id": "_DJvxcjf80JN",
        "colab_type": "code",
        "colab": {}
      },
      "source": [
        "for x in range(0, size): \n",
        "  for y in range(0, size):\n",
        "    _ = x * size + y\n",
        "    A[_, _] = u0\n",
        "    if is_in_house(x, y) or bounds_check(x, y):\n",
        "        continue\n",
        "    for j in range(0, 4):\n",
        "      x_n = x + dx[j]\n",
        "      y_n = y + dy[j]\n",
        "      direction = krest[j]\n",
        "      if x_n == 0:\n",
        "        b[_] -= direction\n",
        "      elif is_in_house(x_n, y_n) or bounds_check(x_n, y_n):\n",
        "        A[_, _] += direction\n",
        "      else:\n",
        "        A[_, x_n * size + y_n] += direction"
      ],
      "execution_count": 0,
      "outputs": []
    },
    {
      "cell_type": "markdown",
      "metadata": {
        "id": "JoZU0nYm9PNN",
        "colab_type": "text"
      },
      "source": [
        "**Solving AX = b with iterative method**  *(X_n+1 = AX_n + b)* "
      ]
    },
    {
      "cell_type": "code",
      "metadata": {
        "id": "AwG2t0y185ja",
        "colab_type": "code",
        "outputId": "8641c0de-683c-4917-fed9-2b6e989ab306",
        "colab": {
          "base_uri": "https://localhost:8080/",
          "height": 202
        }
      },
      "source": [
        "A = csr_matrix(A)\n",
        "b = b.reshape(sq_size, -1)\n",
        "# for i in range(steps - 1):\n",
        "index = 0\n",
        "error = 100500\n",
        "while index < steps:\n",
        "  x_new = A * x_v + b\n",
        "  error = np.max(np.abs(x_new - x_v))\n",
        "  if index % 30000 == 0: \n",
        "    print(error)\n",
        "  index += 1\n",
        "  if error < epsilon:\n",
        "    break\n",
        "  x_v = x_new"
      ],
      "execution_count": 30,
      "outputs": [
        {
          "output_type": "stream",
          "text": [
            "1.2491666666666665\n",
            "1.2381378438508506e-05\n",
            "6.537885683499667e-06\n",
            "5.601427370216516e-06\n",
            "4.763476020186452e-06\n",
            "3.7756219211093622e-06\n",
            "2.924491081190972e-06\n",
            "2.2476324827991334e-06\n",
            "1.722871158182926e-06\n",
            "1.3194681116601714e-06\n",
            "1.0102355026964105e-06\n"
          ],
          "name": "stdout"
        }
      ]
    },
    {
      "cell_type": "markdown",
      "metadata": {
        "id": "XVuabKeRY5zq",
        "colab_type": "text"
      },
      "source": [
        "**Calculating final error**"
      ]
    },
    {
      "cell_type": "code",
      "metadata": {
        "id": "g52OkKFkY5BF",
        "colab_type": "code",
        "outputId": "6c812d57-ff96-457c-d66d-b732db3cc112",
        "colab": {
          "base_uri": "https://localhost:8080/",
          "height": 34
        }
      },
      "source": [
        "print('Error = {}'.format(error))"
      ],
      "execution_count": 31,
      "outputs": [
        {
          "output_type": "stream",
          "text": [
            "Error = 9.999978313190994e-07\n"
          ],
          "name": "stdout"
        }
      ]
    },
    {
      "cell_type": "markdown",
      "metadata": {
        "id": "i7G_4PYnDVbS",
        "colab_type": "text"
      },
      "source": [
        "**Visualizing the result:**"
      ]
    },
    {
      "cell_type": "code",
      "metadata": {
        "id": "BreoIFfv_weH",
        "colab_type": "code",
        "outputId": "6ca298a2-dadc-45dc-9324-de8d13bd4fe6",
        "colab": {
          "base_uri": "https://localhost:8080/",
          "height": 870
        }
      },
      "source": [
        "answer = x_v.reshape(size, size)\n",
        "\n",
        "fig = plt.figure(1, figsize=(6, 5.), dpi=200)\n",
        "im = plt.imshow(1 - answer.T)\n",
        "plt.gca().invert_yaxis()\n",
        "\n",
        "plt.colorbar(im)\n",
        "plt.show()\n",
        "plt.savefig('eps{}.png'.format(str(epsilon)))"
      ],
      "execution_count": 32,
      "outputs": [
        {
          "output_type": "display_data",
          "data": {
            "image/png": "[encoded data removed]",
            "text/plain": [
              "<Figure size 1200x1000 with 2 Axes>"
            ]
          },
          "metadata": {
            "tags": []
          }
        },
        {
          "output_type": "display_data",
          "data": {
            "text/plain": [
              "<Figure size 432x288 with 0 Axes>"
            ]
          },
          "metadata": {
            "tags": []
          }
        }
      ]
    }
  ]
}